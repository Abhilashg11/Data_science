{
 "cells": [
  {
   "cell_type": "code",
   "execution_count": 3,
   "metadata": {},
   "outputs": [],
   "source": [
    "import pandas as pd\n",
    "import numpy as np\n",
    "import matplotlib.pyplot as plt\n",
    "import seaborn as sns\n",
    "from sklearn.model_selection import train_test_split\n",
    "from sklearn.linear_model import LogisticRegression"
   ]
  },
  {
   "cell_type": "code",
   "execution_count": 4,
   "metadata": {},
   "outputs": [],
   "source": [
    "adm = pd.read_csv(r\"C:\\Users\\admin\\Downloads\\admission.csv\")"
   ]
  },
  {
   "cell_type": "code",
   "execution_count": 5,
   "metadata": {},
   "outputs": [
    {
     "data": {
      "text/html": [
       "<div>\n",
       "<style scoped>\n",
       "    .dataframe tbody tr th:only-of-type {\n",
       "        vertical-align: middle;\n",
       "    }\n",
       "\n",
       "    .dataframe tbody tr th {\n",
       "        vertical-align: top;\n",
       "    }\n",
       "\n",
       "    .dataframe thead th {\n",
       "        text-align: right;\n",
       "    }\n",
       "</style>\n",
       "<table border=\"1\" class=\"dataframe\">\n",
       "  <thead>\n",
       "    <tr style=\"text-align: right;\">\n",
       "      <th></th>\n",
       "      <th>ADMIT</th>\n",
       "      <th>GRE</th>\n",
       "      <th>GPA</th>\n",
       "      <th>RANK</th>\n",
       "    </tr>\n",
       "  </thead>\n",
       "  <tbody>\n",
       "    <tr>\n",
       "      <th>0</th>\n",
       "      <td>0</td>\n",
       "      <td>380</td>\n",
       "      <td>3.61</td>\n",
       "      <td>3</td>\n",
       "    </tr>\n",
       "    <tr>\n",
       "      <th>1</th>\n",
       "      <td>1</td>\n",
       "      <td>660</td>\n",
       "      <td>3.67</td>\n",
       "      <td>3</td>\n",
       "    </tr>\n",
       "    <tr>\n",
       "      <th>2</th>\n",
       "      <td>1</td>\n",
       "      <td>800</td>\n",
       "      <td>4.00</td>\n",
       "      <td>1</td>\n",
       "    </tr>\n",
       "    <tr>\n",
       "      <th>3</th>\n",
       "      <td>1</td>\n",
       "      <td>640</td>\n",
       "      <td>3.19</td>\n",
       "      <td>4</td>\n",
       "    </tr>\n",
       "    <tr>\n",
       "      <th>4</th>\n",
       "      <td>0</td>\n",
       "      <td>520</td>\n",
       "      <td>2.93</td>\n",
       "      <td>4</td>\n",
       "    </tr>\n",
       "  </tbody>\n",
       "</table>\n",
       "</div>"
      ],
      "text/plain": [
       "   ADMIT  GRE   GPA  RANK\n",
       "0      0  380  3.61     3\n",
       "1      1  660  3.67     3\n",
       "2      1  800  4.00     1\n",
       "3      1  640  3.19     4\n",
       "4      0  520  2.93     4"
      ]
     },
     "execution_count": 5,
     "metadata": {},
     "output_type": "execute_result"
    }
   ],
   "source": [
    "adm.head()"
   ]
  },
  {
   "cell_type": "code",
   "execution_count": 6,
   "metadata": {},
   "outputs": [
    {
     "name": "stdout",
     "output_type": "stream",
     "text": [
      "<class 'pandas.core.frame.DataFrame'>\n",
      "RangeIndex: 400 entries, 0 to 399\n",
      "Data columns (total 4 columns):\n",
      " #   Column  Non-Null Count  Dtype  \n",
      "---  ------  --------------  -----  \n",
      " 0   ADMIT   400 non-null    int64  \n",
      " 1   GRE     400 non-null    int64  \n",
      " 2   GPA     400 non-null    float64\n",
      " 3   RANK    400 non-null    int64  \n",
      "dtypes: float64(1), int64(3)\n",
      "memory usage: 12.6 KB\n"
     ]
    }
   ],
   "source": [
    "adm.info()"
   ]
  },
  {
   "cell_type": "code",
   "execution_count": 7,
   "metadata": {},
   "outputs": [
    {
     "data": {
      "text/plain": [
       "ADMIT    0\n",
       "GRE      0\n",
       "GPA      0\n",
       "RANK     0\n",
       "dtype: int64"
      ]
     },
     "execution_count": 7,
     "metadata": {},
     "output_type": "execute_result"
    }
   ],
   "source": [
    "adm.isnull().sum()"
   ]
  },
  {
   "cell_type": "code",
   "execution_count": 8,
   "metadata": {},
   "outputs": [
    {
     "data": {
      "text/plain": [
       "1600"
      ]
     },
     "execution_count": 8,
     "metadata": {},
     "output_type": "execute_result"
    }
   ],
   "source": [
    "adm.size"
   ]
  },
  {
   "cell_type": "code",
   "execution_count": 10,
   "metadata": {},
   "outputs": [
    {
     "data": {
      "text/plain": [
       "(400, 4)"
      ]
     },
     "execution_count": 10,
     "metadata": {},
     "output_type": "execute_result"
    }
   ],
   "source": [
    "adm.shape"
   ]
  },
  {
   "cell_type": "code",
   "execution_count": 11,
   "metadata": {},
   "outputs": [],
   "source": [
    "features = adm.drop('ADMIT',axis=1)"
   ]
  },
  {
   "cell_type": "code",
   "execution_count": 12,
   "metadata": {},
   "outputs": [],
   "source": [
    "target = adm[['ADMIT']]"
   ]
  },
  {
   "cell_type": "code",
   "execution_count": 13,
   "metadata": {},
   "outputs": [],
   "source": [
    "x_train,x_test,y_train,y_test = train_test_split(features,target,train_size=0.7,random_state=10)"
   ]
  },
  {
   "cell_type": "code",
   "execution_count": 15,
   "metadata": {},
   "outputs": [],
   "source": [
    "log_model = LogisticRegression()"
   ]
  },
  {
   "cell_type": "code",
   "execution_count": 16,
   "metadata": {},
   "outputs": [
    {
     "name": "stderr",
     "output_type": "stream",
     "text": [
      "c:\\Users\\admin\\anaconda3\\lib\\site-packages\\sklearn\\utils\\validation.py:993: DataConversionWarning: A column-vector y was passed when a 1d array was expected. Please change the shape of y to (n_samples, ), for example using ravel().\n",
      "  y = column_or_1d(y, warn=True)\n"
     ]
    },
    {
     "data": {
      "text/plain": [
       "LogisticRegression()"
      ]
     },
     "execution_count": 16,
     "metadata": {},
     "output_type": "execute_result"
    }
   ],
   "source": [
    "log_model.fit(x_train,y_train)"
   ]
  },
  {
   "cell_type": "code",
   "execution_count": 17,
   "metadata": {},
   "outputs": [
    {
     "data": {
      "text/plain": [
       "array([[0.63225468, 0.36774532],\n",
       "       [0.87156959, 0.12843041],\n",
       "       [0.77290114, 0.22709886],\n",
       "       [0.59964191, 0.40035809],\n",
       "       [0.77228674, 0.22771326],\n",
       "       [0.73387074, 0.26612926],\n",
       "       [0.65141446, 0.34858554],\n",
       "       [0.58935908, 0.41064092],\n",
       "       [0.76622804, 0.23377196],\n",
       "       [0.83211625, 0.16788375],\n",
       "       [0.86149042, 0.13850958],\n",
       "       [0.6903951 , 0.3096049 ],\n",
       "       [0.47216404, 0.52783596],\n",
       "       [0.68864949, 0.31135051],\n",
       "       [0.54295651, 0.45704349],\n",
       "       [0.74291168, 0.25708832],\n",
       "       [0.55062971, 0.44937029],\n",
       "       [0.58484939, 0.41515061],\n",
       "       [0.78015822, 0.21984178],\n",
       "       [0.70016413, 0.29983587],\n",
       "       [0.88371749, 0.11628251],\n",
       "       [0.61011753, 0.38988247],\n",
       "       [0.72165921, 0.27834079],\n",
       "       [0.50148453, 0.49851547],\n",
       "       [0.82949544, 0.17050456],\n",
       "       [0.50536721, 0.49463279],\n",
       "       [0.45394243, 0.54605757],\n",
       "       [0.83042249, 0.16957751],\n",
       "       [0.56916939, 0.43083061],\n",
       "       [0.5264626 , 0.4735374 ],\n",
       "       [0.67349958, 0.32650042],\n",
       "       [0.56220611, 0.43779389],\n",
       "       [0.57625482, 0.42374518],\n",
       "       [0.43529313, 0.56470687],\n",
       "       [0.6843133 , 0.3156867 ],\n",
       "       [0.51070302, 0.48929698],\n",
       "       [0.69607647, 0.30392353],\n",
       "       [0.78241292, 0.21758708],\n",
       "       [0.68814826, 0.31185174],\n",
       "       [0.6036325 , 0.3963675 ],\n",
       "       [0.70517215, 0.29482785],\n",
       "       [0.73567789, 0.26432211],\n",
       "       [0.75879847, 0.24120153],\n",
       "       [0.81471228, 0.18528772],\n",
       "       [0.77969405, 0.22030595],\n",
       "       [0.68113307, 0.31886693],\n",
       "       [0.56171131, 0.43828869],\n",
       "       [0.747559  , 0.252441  ],\n",
       "       [0.57559433, 0.42440567],\n",
       "       [0.31399415, 0.68600585],\n",
       "       [0.64441602, 0.35558398],\n",
       "       [0.57664185, 0.42335815],\n",
       "       [0.61351704, 0.38648296],\n",
       "       [0.64185841, 0.35814159],\n",
       "       [0.4229566 , 0.5770434 ],\n",
       "       [0.30095993, 0.69904007],\n",
       "       [0.70282951, 0.29717049],\n",
       "       [0.44638349, 0.55361651],\n",
       "       [0.8389329 , 0.1610671 ],\n",
       "       [0.60408983, 0.39591017],\n",
       "       [0.84440031, 0.15559969],\n",
       "       [0.7891378 , 0.2108622 ],\n",
       "       [0.58898535, 0.41101465],\n",
       "       [0.59506903, 0.40493097],\n",
       "       [0.71554152, 0.28445848],\n",
       "       [0.62674018, 0.37325982],\n",
       "       [0.45587318, 0.54412682],\n",
       "       [0.87183553, 0.12816447],\n",
       "       [0.85906878, 0.14093122],\n",
       "       [0.66127854, 0.33872146],\n",
       "       [0.76000157, 0.23999843],\n",
       "       [0.54323418, 0.45676582],\n",
       "       [0.81247076, 0.18752924],\n",
       "       [0.72025223, 0.27974777],\n",
       "       [0.78602554, 0.21397446],\n",
       "       [0.89311891, 0.10688109],\n",
       "       [0.69485309, 0.30514691],\n",
       "       [0.87872562, 0.12127438],\n",
       "       [0.6635295 , 0.3364705 ],\n",
       "       [0.81916693, 0.18083307],\n",
       "       [0.48530977, 0.51469023],\n",
       "       [0.68172014, 0.31827986],\n",
       "       [0.42220702, 0.57779298],\n",
       "       [0.84357836, 0.15642164],\n",
       "       [0.60807492, 0.39192508],\n",
       "       [0.88537452, 0.11462548],\n",
       "       [0.79283864, 0.20716136],\n",
       "       [0.60279555, 0.39720445],\n",
       "       [0.62838446, 0.37161554],\n",
       "       [0.51146035, 0.48853965],\n",
       "       [0.62356197, 0.37643803],\n",
       "       [0.33316542, 0.66683458],\n",
       "       [0.79776379, 0.20223621],\n",
       "       [0.74432605, 0.25567395],\n",
       "       [0.687987  , 0.312013  ],\n",
       "       [0.75321793, 0.24678207],\n",
       "       [0.86609737, 0.13390263],\n",
       "       [0.63413895, 0.36586105],\n",
       "       [0.81211447, 0.18788553],\n",
       "       [0.84189687, 0.15810313],\n",
       "       [0.85011452, 0.14988548],\n",
       "       [0.60130984, 0.39869016],\n",
       "       [0.43197233, 0.56802767],\n",
       "       [0.48910853, 0.51089147],\n",
       "       [0.89054574, 0.10945426],\n",
       "       [0.62792829, 0.37207171],\n",
       "       [0.63702111, 0.36297889],\n",
       "       [0.43815918, 0.56184082],\n",
       "       [0.71805915, 0.28194085],\n",
       "       [0.73801146, 0.26198854],\n",
       "       [0.53437237, 0.46562763],\n",
       "       [0.42248002, 0.57751998],\n",
       "       [0.60408983, 0.39591017],\n",
       "       [0.63629726, 0.36370274],\n",
       "       [0.62046939, 0.37953061],\n",
       "       [0.88195294, 0.11804706],\n",
       "       [0.67034419, 0.32965581],\n",
       "       [0.63846326, 0.36153674],\n",
       "       [0.87231407, 0.12768593],\n",
       "       [0.62220138, 0.37779862]])"
      ]
     },
     "execution_count": 17,
     "metadata": {},
     "output_type": "execute_result"
    }
   ],
   "source": [
    "log_model.predict_proba(x_test)"
   ]
  },
  {
   "cell_type": "code",
   "execution_count": 18,
   "metadata": {},
   "outputs": [],
   "source": [
    "y_pred = log_model.predict(x_test)"
   ]
  },
  {
   "cell_type": "code",
   "execution_count": 19,
   "metadata": {},
   "outputs": [
    {
     "data": {
      "text/plain": [
       "array([0, 0, 0, 0, 0, 0, 0, 0, 0, 0, 0, 0, 1, 0, 0, 0, 0, 0, 0, 0, 0, 0,\n",
       "       0, 0, 0, 0, 1, 0, 0, 0, 0, 0, 0, 1, 0, 0, 0, 0, 0, 0, 0, 0, 0, 0,\n",
       "       0, 0, 0, 0, 0, 1, 0, 0, 0, 0, 1, 1, 0, 1, 0, 0, 0, 0, 0, 0, 0, 0,\n",
       "       1, 0, 0, 0, 0, 0, 0, 0, 0, 0, 0, 0, 0, 0, 1, 0, 1, 0, 0, 0, 0, 0,\n",
       "       0, 0, 0, 1, 0, 0, 0, 0, 0, 0, 0, 0, 0, 0, 1, 1, 0, 0, 0, 1, 0, 0,\n",
       "       0, 1, 0, 0, 0, 0, 0, 0, 0, 0], dtype=int64)"
      ]
     },
     "execution_count": 19,
     "metadata": {},
     "output_type": "execute_result"
    }
   ],
   "source": [
    "y_pred"
   ]
  },
  {
   "cell_type": "code",
   "execution_count": null,
   "metadata": {},
   "outputs": [],
   "source": [
    "## "
   ]
  }
 ],
 "metadata": {
  "kernelspec": {
   "display_name": "base",
   "language": "python",
   "name": "python3"
  },
  "language_info": {
   "codemirror_mode": {
    "name": "ipython",
    "version": 3
   },
   "file_extension": ".py",
   "mimetype": "text/x-python",
   "name": "python",
   "nbconvert_exporter": "python",
   "pygments_lexer": "ipython3",
   "version": "3.9.13"
  },
  "orig_nbformat": 4
 },
 "nbformat": 4,
 "nbformat_minor": 2
}
