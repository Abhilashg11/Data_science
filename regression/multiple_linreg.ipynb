{
 "cells": [
  {
   "cell_type": "code",
   "execution_count": 22,
   "metadata": {},
   "outputs": [],
   "source": [
    " import pandas as pd\n",
    "import numpy as np \n",
    "import matplotlib.pyplot as plt\n",
    "import seaborn as sns"
   ]
  },
  {
   "cell_type": "code",
   "execution_count": 23,
   "metadata": {},
   "outputs": [],
   "source": [
    "house = pd.read_csv(r\"C:\\Users\\admin\\Downloads\\Housing_data.csv\")"
   ]
  },
  {
   "cell_type": "code",
   "execution_count": 24,
   "metadata": {},
   "outputs": [
    {
     "data": {
      "text/plain": [
       "(1047, 7)"
      ]
     },
     "execution_count": 24,
     "metadata": {},
     "output_type": "execute_result"
    }
   ],
   "source": [
    "house.shape"
   ]
  },
  {
   "cell_type": "code",
   "execution_count": 25,
   "metadata": {},
   "outputs": [
    {
     "data": {
      "text/html": [
       "<div>\n",
       "<style scoped>\n",
       "    .dataframe tbody tr th:only-of-type {\n",
       "        vertical-align: middle;\n",
       "    }\n",
       "\n",
       "    .dataframe tbody tr th {\n",
       "        vertical-align: top;\n",
       "    }\n",
       "\n",
       "    .dataframe thead th {\n",
       "        text-align: right;\n",
       "    }\n",
       "</style>\n",
       "<table border=\"1\" class=\"dataframe\">\n",
       "  <thead>\n",
       "    <tr style=\"text-align: right;\">\n",
       "      <th></th>\n",
       "      <th>Price</th>\n",
       "      <th>LivingArea</th>\n",
       "      <th>Bathrooms</th>\n",
       "      <th>Bedrooms</th>\n",
       "      <th>LotSize</th>\n",
       "      <th>Age</th>\n",
       "      <th>Fireplace</th>\n",
       "    </tr>\n",
       "  </thead>\n",
       "  <tbody>\n",
       "    <tr>\n",
       "      <th>count</th>\n",
       "      <td>1047.000000</td>\n",
       "      <td>1047.000000</td>\n",
       "      <td>1047.000000</td>\n",
       "      <td>1047.000000</td>\n",
       "      <td>1047.000000</td>\n",
       "      <td>1047.000000</td>\n",
       "      <td>1047.000000</td>\n",
       "    </tr>\n",
       "    <tr>\n",
       "      <th>mean</th>\n",
       "      <td>163862.125119</td>\n",
       "      <td>1807.302770</td>\n",
       "      <td>1.918338</td>\n",
       "      <td>3.183381</td>\n",
       "      <td>0.569580</td>\n",
       "      <td>28.061127</td>\n",
       "      <td>0.593123</td>\n",
       "    </tr>\n",
       "    <tr>\n",
       "      <th>std</th>\n",
       "      <td>67651.558917</td>\n",
       "      <td>641.460916</td>\n",
       "      <td>0.641735</td>\n",
       "      <td>0.750265</td>\n",
       "      <td>0.777879</td>\n",
       "      <td>34.900899</td>\n",
       "      <td>0.491486</td>\n",
       "    </tr>\n",
       "    <tr>\n",
       "      <th>min</th>\n",
       "      <td>16858.000000</td>\n",
       "      <td>672.000000</td>\n",
       "      <td>1.000000</td>\n",
       "      <td>1.000000</td>\n",
       "      <td>0.000000</td>\n",
       "      <td>0.000000</td>\n",
       "      <td>0.000000</td>\n",
       "    </tr>\n",
       "    <tr>\n",
       "      <th>25%</th>\n",
       "      <td>112014.000000</td>\n",
       "      <td>1336.000000</td>\n",
       "      <td>1.500000</td>\n",
       "      <td>3.000000</td>\n",
       "      <td>0.210000</td>\n",
       "      <td>6.000000</td>\n",
       "      <td>0.000000</td>\n",
       "    </tr>\n",
       "    <tr>\n",
       "      <th>50%</th>\n",
       "      <td>151917.000000</td>\n",
       "      <td>1672.000000</td>\n",
       "      <td>2.000000</td>\n",
       "      <td>3.000000</td>\n",
       "      <td>0.390000</td>\n",
       "      <td>18.000000</td>\n",
       "      <td>1.000000</td>\n",
       "    </tr>\n",
       "    <tr>\n",
       "      <th>75%</th>\n",
       "      <td>205235.000000</td>\n",
       "      <td>2206.000000</td>\n",
       "      <td>2.500000</td>\n",
       "      <td>4.000000</td>\n",
       "      <td>0.600000</td>\n",
       "      <td>34.000000</td>\n",
       "      <td>1.000000</td>\n",
       "    </tr>\n",
       "    <tr>\n",
       "      <th>max</th>\n",
       "      <td>446436.000000</td>\n",
       "      <td>4534.000000</td>\n",
       "      <td>4.500000</td>\n",
       "      <td>6.000000</td>\n",
       "      <td>9.000000</td>\n",
       "      <td>247.000000</td>\n",
       "      <td>1.000000</td>\n",
       "    </tr>\n",
       "  </tbody>\n",
       "</table>\n",
       "</div>"
      ],
      "text/plain": [
       "               Price   LivingArea    Bathrooms     Bedrooms      LotSize  \\\n",
       "count    1047.000000  1047.000000  1047.000000  1047.000000  1047.000000   \n",
       "mean   163862.125119  1807.302770     1.918338     3.183381     0.569580   \n",
       "std     67651.558917   641.460916     0.641735     0.750265     0.777879   \n",
       "min     16858.000000   672.000000     1.000000     1.000000     0.000000   \n",
       "25%    112014.000000  1336.000000     1.500000     3.000000     0.210000   \n",
       "50%    151917.000000  1672.000000     2.000000     3.000000     0.390000   \n",
       "75%    205235.000000  2206.000000     2.500000     4.000000     0.600000   \n",
       "max    446436.000000  4534.000000     4.500000     6.000000     9.000000   \n",
       "\n",
       "               Age    Fireplace  \n",
       "count  1047.000000  1047.000000  \n",
       "mean     28.061127     0.593123  \n",
       "std      34.900899     0.491486  \n",
       "min       0.000000     0.000000  \n",
       "25%       6.000000     0.000000  \n",
       "50%      18.000000     1.000000  \n",
       "75%      34.000000     1.000000  \n",
       "max     247.000000     1.000000  "
      ]
     },
     "execution_count": 25,
     "metadata": {},
     "output_type": "execute_result"
    }
   ],
   "source": [
    "house.describe()"
   ]
  },
  {
   "cell_type": "code",
   "execution_count": 26,
   "metadata": {},
   "outputs": [
    {
     "data": {
      "text/plain": [
       "<bound method DataFrame.info of        Price  LivingArea  Bathrooms  Bedrooms  LotSize  Age  Fireplace\n",
       "0      16858        1629        1.0         3     0.76  180          0\n",
       "1      26049        1344        2.0         3     0.92   13          0\n",
       "2      26130         822        1.0         2     0.56  173          0\n",
       "3      31113        1540        1.0         2     0.04  115          0\n",
       "4      40932        1320        1.0         3     0.17   90          0\n",
       "...      ...         ...        ...       ...      ...  ...        ...\n",
       "1042  387652        3504        2.5         5     0.90    0          1\n",
       "1043  391842        3003        3.5         4     0.46   88          1\n",
       "1044  394532        3361        3.5         4     0.71    1          1\n",
       "1045  432845        3250        2.5         3     0.53   23          1\n",
       "1046  446436        3467        2.5         4     0.34    3          1\n",
       "\n",
       "[1047 rows x 7 columns]>"
      ]
     },
     "execution_count": 26,
     "metadata": {},
     "output_type": "execute_result"
    }
   ],
   "source": [
    "house.info"
   ]
  },
  {
   "cell_type": "code",
   "execution_count": 27,
   "metadata": {},
   "outputs": [
    {
     "data": {
      "text/html": [
       "<div>\n",
       "<style scoped>\n",
       "    .dataframe tbody tr th:only-of-type {\n",
       "        vertical-align: middle;\n",
       "    }\n",
       "\n",
       "    .dataframe tbody tr th {\n",
       "        vertical-align: top;\n",
       "    }\n",
       "\n",
       "    .dataframe thead th {\n",
       "        text-align: right;\n",
       "    }\n",
       "</style>\n",
       "<table border=\"1\" class=\"dataframe\">\n",
       "  <thead>\n",
       "    <tr style=\"text-align: right;\">\n",
       "      <th></th>\n",
       "      <th>Price</th>\n",
       "      <th>LivingArea</th>\n",
       "      <th>Bathrooms</th>\n",
       "      <th>Bedrooms</th>\n",
       "      <th>LotSize</th>\n",
       "      <th>Age</th>\n",
       "      <th>Fireplace</th>\n",
       "    </tr>\n",
       "  </thead>\n",
       "  <tbody>\n",
       "    <tr>\n",
       "      <th>0</th>\n",
       "      <td>16858</td>\n",
       "      <td>1629</td>\n",
       "      <td>1.0</td>\n",
       "      <td>3</td>\n",
       "      <td>0.76</td>\n",
       "      <td>180</td>\n",
       "      <td>0</td>\n",
       "    </tr>\n",
       "    <tr>\n",
       "      <th>1</th>\n",
       "      <td>26049</td>\n",
       "      <td>1344</td>\n",
       "      <td>2.0</td>\n",
       "      <td>3</td>\n",
       "      <td>0.92</td>\n",
       "      <td>13</td>\n",
       "      <td>0</td>\n",
       "    </tr>\n",
       "    <tr>\n",
       "      <th>2</th>\n",
       "      <td>26130</td>\n",
       "      <td>822</td>\n",
       "      <td>1.0</td>\n",
       "      <td>2</td>\n",
       "      <td>0.56</td>\n",
       "      <td>173</td>\n",
       "      <td>0</td>\n",
       "    </tr>\n",
       "    <tr>\n",
       "      <th>3</th>\n",
       "      <td>31113</td>\n",
       "      <td>1540</td>\n",
       "      <td>1.0</td>\n",
       "      <td>2</td>\n",
       "      <td>0.04</td>\n",
       "      <td>115</td>\n",
       "      <td>0</td>\n",
       "    </tr>\n",
       "    <tr>\n",
       "      <th>4</th>\n",
       "      <td>40932</td>\n",
       "      <td>1320</td>\n",
       "      <td>1.0</td>\n",
       "      <td>3</td>\n",
       "      <td>0.17</td>\n",
       "      <td>90</td>\n",
       "      <td>0</td>\n",
       "    </tr>\n",
       "  </tbody>\n",
       "</table>\n",
       "</div>"
      ],
      "text/plain": [
       "   Price  LivingArea  Bathrooms  Bedrooms  LotSize  Age  Fireplace\n",
       "0  16858        1629        1.0         3     0.76  180          0\n",
       "1  26049        1344        2.0         3     0.92   13          0\n",
       "2  26130         822        1.0         2     0.56  173          0\n",
       "3  31113        1540        1.0         2     0.04  115          0\n",
       "4  40932        1320        1.0         3     0.17   90          0"
      ]
     },
     "execution_count": 27,
     "metadata": {},
     "output_type": "execute_result"
    }
   ],
   "source": [
    "house.head()"
   ]
  },
  {
   "cell_type": "code",
   "execution_count": 28,
   "metadata": {},
   "outputs": [
    {
     "data": {
      "text/plain": [
       "7329"
      ]
     },
     "execution_count": 28,
     "metadata": {},
     "output_type": "execute_result"
    }
   ],
   "source": [
    "house.size"
   ]
  },
  {
   "cell_type": "code",
   "execution_count": 29,
   "metadata": {},
   "outputs": [],
   "source": [
    "features = house.drop('Price',axis=1)"
   ]
  },
  {
   "cell_type": "code",
   "execution_count": 30,
   "metadata": {},
   "outputs": [
    {
     "data": {
      "text/html": [
       "<div>\n",
       "<style scoped>\n",
       "    .dataframe tbody tr th:only-of-type {\n",
       "        vertical-align: middle;\n",
       "    }\n",
       "\n",
       "    .dataframe tbody tr th {\n",
       "        vertical-align: top;\n",
       "    }\n",
       "\n",
       "    .dataframe thead th {\n",
       "        text-align: right;\n",
       "    }\n",
       "</style>\n",
       "<table border=\"1\" class=\"dataframe\">\n",
       "  <thead>\n",
       "    <tr style=\"text-align: right;\">\n",
       "      <th></th>\n",
       "      <th>LivingArea</th>\n",
       "      <th>Bathrooms</th>\n",
       "      <th>Bedrooms</th>\n",
       "      <th>LotSize</th>\n",
       "      <th>Age</th>\n",
       "      <th>Fireplace</th>\n",
       "    </tr>\n",
       "  </thead>\n",
       "  <tbody>\n",
       "    <tr>\n",
       "      <th>0</th>\n",
       "      <td>1629</td>\n",
       "      <td>1.0</td>\n",
       "      <td>3</td>\n",
       "      <td>0.76</td>\n",
       "      <td>180</td>\n",
       "      <td>0</td>\n",
       "    </tr>\n",
       "    <tr>\n",
       "      <th>1</th>\n",
       "      <td>1344</td>\n",
       "      <td>2.0</td>\n",
       "      <td>3</td>\n",
       "      <td>0.92</td>\n",
       "      <td>13</td>\n",
       "      <td>0</td>\n",
       "    </tr>\n",
       "    <tr>\n",
       "      <th>2</th>\n",
       "      <td>822</td>\n",
       "      <td>1.0</td>\n",
       "      <td>2</td>\n",
       "      <td>0.56</td>\n",
       "      <td>173</td>\n",
       "      <td>0</td>\n",
       "    </tr>\n",
       "    <tr>\n",
       "      <th>3</th>\n",
       "      <td>1540</td>\n",
       "      <td>1.0</td>\n",
       "      <td>2</td>\n",
       "      <td>0.04</td>\n",
       "      <td>115</td>\n",
       "      <td>0</td>\n",
       "    </tr>\n",
       "    <tr>\n",
       "      <th>4</th>\n",
       "      <td>1320</td>\n",
       "      <td>1.0</td>\n",
       "      <td>3</td>\n",
       "      <td>0.17</td>\n",
       "      <td>90</td>\n",
       "      <td>0</td>\n",
       "    </tr>\n",
       "  </tbody>\n",
       "</table>\n",
       "</div>"
      ],
      "text/plain": [
       "   LivingArea  Bathrooms  Bedrooms  LotSize  Age  Fireplace\n",
       "0        1629        1.0         3     0.76  180          0\n",
       "1        1344        2.0         3     0.92   13          0\n",
       "2         822        1.0         2     0.56  173          0\n",
       "3        1540        1.0         2     0.04  115          0\n",
       "4        1320        1.0         3     0.17   90          0"
      ]
     },
     "execution_count": 30,
     "metadata": {},
     "output_type": "execute_result"
    }
   ],
   "source": [
    "features.head()"
   ]
  },
  {
   "cell_type": "code",
   "execution_count": 34,
   "metadata": {},
   "outputs": [],
   "source": [
    "target = house['Price']"
   ]
  },
  {
   "cell_type": "code",
   "execution_count": 32,
   "metadata": {},
   "outputs": [],
   "source": [
    "from sklearn.model_selection import train_test_split"
   ]
  },
  {
   "cell_type": "code",
   "execution_count": 35,
   "metadata": {},
   "outputs": [],
   "source": [
    "x_train,x_test,y_train,y_test = train_test_split(features,target,train_size=.75,random_state=50)"
   ]
  },
  {
   "cell_type": "code",
   "execution_count": 37,
   "metadata": {},
   "outputs": [
    {
     "name": "stdout",
     "output_type": "stream",
     "text": [
      "(785, 6)\n",
      "(262, 6)\n",
      "(785,)\n",
      "(262,)\n"
     ]
    }
   ],
   "source": [
    "print(x_train.shape)\n",
    "print(x_test.shape)\n",
    "print(y_train.shape)\n",
    "print(y_test.shape)"
   ]
  },
  {
   "cell_type": "code",
   "execution_count": 42,
   "metadata": {},
   "outputs": [],
   "source": [
    "from sklearn.linear_model import LinearRegression"
   ]
  },
  {
   "cell_type": "code",
   "execution_count": 43,
   "metadata": {},
   "outputs": [],
   "source": [
    "ln = LinearRegression()"
   ]
  },
  {
   "cell_type": "code",
   "execution_count": 44,
   "metadata": {},
   "outputs": [
    {
     "data": {
      "text/plain": [
       "LinearRegression()"
      ]
     },
     "execution_count": 44,
     "metadata": {},
     "output_type": "execute_result"
    }
   ],
   "source": [
    "ln.fit(x_train,y_train)"
   ]
  },
  {
   "cell_type": "code",
   "execution_count": 47,
   "metadata": {},
   "outputs": [],
   "source": [
    "y_pred = ln.predict(x_test)"
   ]
  },
  {
   "cell_type": "code",
   "execution_count": 48,
   "metadata": {},
   "outputs": [
    {
     "data": {
      "text/plain": [
       "array([306285.35201372, 297309.01731344, 232070.76838866, 223418.10241725,\n",
       "       135165.0539936 , 184202.85120285, 214839.44754099, 144169.63575151,\n",
       "       153932.8100808 , 155173.00472819, 102108.51268412, 164671.13151316,\n",
       "       254336.98167805, 230820.55750062, 182051.44498657, 245800.2813565 ,\n",
       "       204632.25374506, 123719.1746515 , 134836.81409135, 179650.08129575,\n",
       "       205202.83484906, 130667.86940342, 156505.78369268, 118167.04748648,\n",
       "       137589.49570798, 110556.08926145, 211523.32778328, 139566.11554441,\n",
       "       193179.03939201, 213862.28014514, 215675.83066146,  91871.96753215,\n",
       "        95207.88788042, 217326.71621832,  74393.64322033, 140745.63115932,\n",
       "       156686.12739829, 180674.41454785, 235883.30003076, 130177.2310295 ,\n",
       "        96879.64282898, 118056.68360215, 138185.14256768, 224718.12892987,\n",
       "       223173.79520075, 150315.36112151, 139939.37305476, 164789.68588089,\n",
       "       173022.39892679, 140414.50901674, 217820.66391334, 241392.70402325,\n",
       "       137534.97787496, 170119.34167532,  91166.300986  , 187672.75583956,\n",
       "       141100.43428285, 212247.46781115, 187226.83912175, 116980.07311424,\n",
       "       107068.6824249 , 142483.97251019, 225579.46532702, 134639.65311931,\n",
       "       191608.18346445, 135298.74412452, 145857.01804117, 131691.81084709,\n",
       "       269408.90303462, 122911.23325862, 131492.02098994, 232625.35306387,\n",
       "       102751.22569731, 160088.44873618, 185380.79971095, 135076.37009412,\n",
       "       281507.49117381, 290774.33520695, 144169.63575151, 142369.74249326,\n",
       "       102528.99650791, 133279.97421723, 152759.61048167, 213322.55083067,\n",
       "       162848.71410647,  94357.32883186, 223018.3448042 , 196315.64323142,\n",
       "       145260.22810024, 228632.37826097, 142588.74034062,  86966.69349518,\n",
       "       212041.23565323, 126026.06238574, 196723.55336894,  77180.7823841 ,\n",
       "       139192.5579626 , 207986.14426548, 152698.86838865, 254751.15118762,\n",
       "       204899.51684188, 165070.35224927, 158995.79618035, 297385.57542017,\n",
       "       107664.51300487, 154644.62807204,  99763.59925802, 103776.07585889,\n",
       "       121424.1222452 , 185335.5444643 , 144436.39809994, 232000.61153377,\n",
       "       103730.12909842, 175143.74689357, 132553.42856677, 243787.33157318,\n",
       "       218428.35261837,  99427.41534493, 170038.95829269, 205795.286758  ,\n",
       "       217635.88602238, 152072.90200024,  92763.96768422, 236439.85976027,\n",
       "        95339.26271861, 144794.68972905, 173255.9899199 ,  95456.75172119,\n",
       "       151506.57891366, 210544.53579065, 132857.7062202 , 139389.2523242 ,\n",
       "       163519.28402666, 103933.01570713, 160364.62185558, 224663.68290842,\n",
       "       209855.9274513 , 140705.53525307, 214099.55079702, 188761.80285294,\n",
       "       126909.22853891, 121273.23582635, 200723.00196609, 121332.78306723,\n",
       "       233258.84127015,  52455.23589608,  50870.87931565, 201719.02191958,\n",
       "       117686.51535602, 209797.96125135, 145552.00676696, 149081.89934555,\n",
       "        88519.90348102, 206464.94735732, 177346.02368785, 136117.51148956,\n",
       "       139797.53414271, 120844.75180668, 176530.41270255, 103911.17877714,\n",
       "       128556.9889154 , 173694.59828688, 175145.97553371, 292074.90218338,\n",
       "       307872.53780055, 266782.71697488, 122803.71258516, 111331.21963569,\n",
       "       115399.65196192, 121977.35636973, 218848.02560551,  81294.25141334,\n",
       "        99560.78291554,  73648.25315719, 272961.49786241,  87148.33321331,\n",
       "       261820.34208955, 146146.70464505,  84349.45799734,  88710.55575417,\n",
       "       161495.28661496, 165600.85496799, 127481.67030455, 146920.33422355,\n",
       "       154900.85813195, 138341.14938764, 157408.99119734, 130396.36978166,\n",
       "       106713.28234494,  89269.95727175,  86415.51900677,  67949.87698363,\n",
       "       153593.16605957, 130515.84979187,  95140.3934173 , 207804.79744482,\n",
       "       146863.70142473, 222793.19972386, 241300.82753219,  95237.42924877,\n",
       "       191419.10153587, 154739.23261811, 209066.74148767,  81541.92275777,\n",
       "       184115.16321612, 179711.29500624, 124029.2361624 , 189718.24692603,\n",
       "       161041.22949158, 134356.14933524, 369624.47210603, 105198.59819665,\n",
       "       234389.21483388, 147198.4140444 , 274761.90452029,  75654.18531994,\n",
       "       250337.09358528, 154362.98919409, 135124.89902373, 204027.88649698,\n",
       "       152759.61048167, 229902.21080239, 235988.08638551, 100604.29037531,\n",
       "       108218.43734206, 107068.2316943 , 140465.54576168, 166333.54901529,\n",
       "       138994.21003045, 181110.86621414, 217383.94301171,  74128.44737603,\n",
       "       103717.5541521 ,  96259.18249827, 134138.04450942, 166361.67601926,\n",
       "       124647.26979792, 170626.37493412, 189027.7617599 , 156767.55412769,\n",
       "       123742.27761353, 221136.33787399, 140731.95892202, 178959.31952544,\n",
       "       136883.29105721, 149100.56155093, 208619.09329033, 149570.45257391,\n",
       "       130696.03424781, 114055.89984739, 193139.33974295, 131193.36354336,\n",
       "       235525.49614851, 208252.32328399, 136117.51148956, 271070.25357562,\n",
       "       165277.45089028, 178768.95184428, 218346.99945703, 215010.8900998 ,\n",
       "       108078.11946532,  87747.24768153])"
      ]
     },
     "execution_count": 48,
     "metadata": {},
     "output_type": "execute_result"
    }
   ],
   "source": [
    "y_pred"
   ]
  },
  {
   "cell_type": "code",
   "execution_count": 49,
   "metadata": {},
   "outputs": [
    {
     "data": {
      "text/plain": [
       "(262,)"
      ]
     },
     "execution_count": 49,
     "metadata": {},
     "output_type": "execute_result"
    }
   ],
   "source": [
    "y_pred.shape"
   ]
  },
  {
   "cell_type": "code",
   "execution_count": 50,
   "metadata": {},
   "outputs": [
    {
     "data": {
      "text/plain": [
       "(262,)"
      ]
     },
     "execution_count": 50,
     "metadata": {},
     "output_type": "execute_result"
    }
   ],
   "source": [
    "y_test.shape"
   ]
  },
  {
   "cell_type": "code",
   "execution_count": 51,
   "metadata": {},
   "outputs": [
    {
     "data": {
      "text/plain": [
       "array([   71.01773164, 12495.81330579, -5377.02839843,  2954.13683419,\n",
       "        -215.08955664, 10517.92407482])"
      ]
     },
     "execution_count": 51,
     "metadata": {},
     "output_type": "execute_result"
    }
   ],
   "source": [
    "ln.coef_"
   ]
  },
  {
   "cell_type": "code",
   "execution_count": 52,
   "metadata": {},
   "outputs": [
    {
     "data": {
      "text/plain": [
       "26308.72407431781"
      ]
     },
     "execution_count": 52,
     "metadata": {},
     "output_type": "execute_result"
    }
   ],
   "source": [
    "ln.intercept_"
   ]
  },
  {
   "cell_type": "code",
   "execution_count": 53,
   "metadata": {},
   "outputs": [],
   "source": [
    "sse = ((y_test-y_pred)**2).sum()"
   ]
  },
  {
   "cell_type": "code",
   "execution_count": 54,
   "metadata": {},
   "outputs": [
    {
     "data": {
      "text/plain": [
       "524426101944.0737"
      ]
     },
     "execution_count": 54,
     "metadata": {},
     "output_type": "execute_result"
    }
   ],
   "source": [
    "sse"
   ]
  },
  {
   "cell_type": "code",
   "execution_count": null,
   "metadata": {},
   "outputs": [],
   "source": []
  }
 ],
 "metadata": {
  "kernelspec": {
   "display_name": "base",
   "language": "python",
   "name": "python3"
  },
  "language_info": {
   "codemirror_mode": {
    "name": "ipython",
    "version": 3
   },
   "file_extension": ".py",
   "mimetype": "text/x-python",
   "name": "python",
   "nbconvert_exporter": "python",
   "pygments_lexer": "ipython3",
   "version": "3.9.13"
  },
  "orig_nbformat": 4
 },
 "nbformat": 4,
 "nbformat_minor": 2
}
