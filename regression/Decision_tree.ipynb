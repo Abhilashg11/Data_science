{
 "cells": [
  {
   "cell_type": "code",
   "execution_count": 19,
   "metadata": {},
   "outputs": [],
   "source": [
    "import pandas as pd\n",
    "import matplotlib.pyplot as plt\n",
    "import numpy  as np\n",
    "import seaborn as sns\n",
    "from sklearn.model_selection import train_test_split\n",
    "from sklearn.metrics import accuracy_score,confusion_matrix,classification_report\n",
    "from sklearn.impute import SimpleImputer\n",
    "from sklearn.tree import DecisionTreeClassifier"
   ]
  },
  {
   "cell_type": "code",
   "execution_count": 2,
   "metadata": {},
   "outputs": [],
   "source": [
    "horse = pd.read_csv(r\"C:\\Users\\admin\\Downloads\\horse.csv\")"
   ]
  },
  {
   "cell_type": "code",
   "execution_count": 3,
   "metadata": {},
   "outputs": [
    {
     "data": {
      "text/html": [
       "<div>\n",
       "<style scoped>\n",
       "    .dataframe tbody tr th:only-of-type {\n",
       "        vertical-align: middle;\n",
       "    }\n",
       "\n",
       "    .dataframe tbody tr th {\n",
       "        vertical-align: top;\n",
       "    }\n",
       "\n",
       "    .dataframe thead th {\n",
       "        text-align: right;\n",
       "    }\n",
       "</style>\n",
       "<table border=\"1\" class=\"dataframe\">\n",
       "  <thead>\n",
       "    <tr style=\"text-align: right;\">\n",
       "      <th></th>\n",
       "      <th>surgery</th>\n",
       "      <th>age</th>\n",
       "      <th>hospital_number</th>\n",
       "      <th>rectal_temp</th>\n",
       "      <th>pulse</th>\n",
       "      <th>respiratory_rate</th>\n",
       "      <th>temp_of_extremities</th>\n",
       "      <th>peripheral_pulse</th>\n",
       "      <th>mucous_membrane</th>\n",
       "      <th>capillary_refill_time</th>\n",
       "      <th>...</th>\n",
       "      <th>packed_cell_volume</th>\n",
       "      <th>total_protein</th>\n",
       "      <th>abdomo_appearance</th>\n",
       "      <th>abdomo_protein</th>\n",
       "      <th>outcome</th>\n",
       "      <th>surgical_lesion</th>\n",
       "      <th>lesion_1</th>\n",
       "      <th>lesion_2</th>\n",
       "      <th>lesion_3</th>\n",
       "      <th>cp_data</th>\n",
       "    </tr>\n",
       "  </thead>\n",
       "  <tbody>\n",
       "    <tr>\n",
       "      <th>0</th>\n",
       "      <td>no</td>\n",
       "      <td>adult</td>\n",
       "      <td>530101</td>\n",
       "      <td>38.5</td>\n",
       "      <td>66.0</td>\n",
       "      <td>28.0</td>\n",
       "      <td>cool</td>\n",
       "      <td>reduced</td>\n",
       "      <td>NaN</td>\n",
       "      <td>more_3_sec</td>\n",
       "      <td>...</td>\n",
       "      <td>45.0</td>\n",
       "      <td>8.4</td>\n",
       "      <td>NaN</td>\n",
       "      <td>NaN</td>\n",
       "      <td>died</td>\n",
       "      <td>no</td>\n",
       "      <td>11300</td>\n",
       "      <td>0</td>\n",
       "      <td>0</td>\n",
       "      <td>no</td>\n",
       "    </tr>\n",
       "    <tr>\n",
       "      <th>1</th>\n",
       "      <td>yes</td>\n",
       "      <td>adult</td>\n",
       "      <td>534817</td>\n",
       "      <td>39.2</td>\n",
       "      <td>88.0</td>\n",
       "      <td>20.0</td>\n",
       "      <td>NaN</td>\n",
       "      <td>NaN</td>\n",
       "      <td>pale_cyanotic</td>\n",
       "      <td>less_3_sec</td>\n",
       "      <td>...</td>\n",
       "      <td>50.0</td>\n",
       "      <td>85.0</td>\n",
       "      <td>cloudy</td>\n",
       "      <td>2.0</td>\n",
       "      <td>euthanized</td>\n",
       "      <td>no</td>\n",
       "      <td>2208</td>\n",
       "      <td>0</td>\n",
       "      <td>0</td>\n",
       "      <td>no</td>\n",
       "    </tr>\n",
       "    <tr>\n",
       "      <th>2</th>\n",
       "      <td>no</td>\n",
       "      <td>adult</td>\n",
       "      <td>530334</td>\n",
       "      <td>38.3</td>\n",
       "      <td>40.0</td>\n",
       "      <td>24.0</td>\n",
       "      <td>normal</td>\n",
       "      <td>normal</td>\n",
       "      <td>pale_pink</td>\n",
       "      <td>less_3_sec</td>\n",
       "      <td>...</td>\n",
       "      <td>33.0</td>\n",
       "      <td>6.7</td>\n",
       "      <td>NaN</td>\n",
       "      <td>NaN</td>\n",
       "      <td>lived</td>\n",
       "      <td>no</td>\n",
       "      <td>0</td>\n",
       "      <td>0</td>\n",
       "      <td>0</td>\n",
       "      <td>yes</td>\n",
       "    </tr>\n",
       "    <tr>\n",
       "      <th>3</th>\n",
       "      <td>yes</td>\n",
       "      <td>young</td>\n",
       "      <td>5290409</td>\n",
       "      <td>39.1</td>\n",
       "      <td>164.0</td>\n",
       "      <td>84.0</td>\n",
       "      <td>cold</td>\n",
       "      <td>normal</td>\n",
       "      <td>dark_cyanotic</td>\n",
       "      <td>more_3_sec</td>\n",
       "      <td>...</td>\n",
       "      <td>48.0</td>\n",
       "      <td>7.2</td>\n",
       "      <td>serosanguious</td>\n",
       "      <td>5.3</td>\n",
       "      <td>died</td>\n",
       "      <td>yes</td>\n",
       "      <td>2208</td>\n",
       "      <td>0</td>\n",
       "      <td>0</td>\n",
       "      <td>yes</td>\n",
       "    </tr>\n",
       "    <tr>\n",
       "      <th>4</th>\n",
       "      <td>no</td>\n",
       "      <td>adult</td>\n",
       "      <td>530255</td>\n",
       "      <td>37.3</td>\n",
       "      <td>104.0</td>\n",
       "      <td>35.0</td>\n",
       "      <td>NaN</td>\n",
       "      <td>NaN</td>\n",
       "      <td>dark_cyanotic</td>\n",
       "      <td>more_3_sec</td>\n",
       "      <td>...</td>\n",
       "      <td>74.0</td>\n",
       "      <td>7.4</td>\n",
       "      <td>NaN</td>\n",
       "      <td>NaN</td>\n",
       "      <td>died</td>\n",
       "      <td>no</td>\n",
       "      <td>4300</td>\n",
       "      <td>0</td>\n",
       "      <td>0</td>\n",
       "      <td>no</td>\n",
       "    </tr>\n",
       "  </tbody>\n",
       "</table>\n",
       "<p>5 rows × 28 columns</p>\n",
       "</div>"
      ],
      "text/plain": [
       "  surgery    age  hospital_number  rectal_temp  pulse  respiratory_rate  \\\n",
       "0      no  adult           530101         38.5   66.0              28.0   \n",
       "1     yes  adult           534817         39.2   88.0              20.0   \n",
       "2      no  adult           530334         38.3   40.0              24.0   \n",
       "3     yes  young          5290409         39.1  164.0              84.0   \n",
       "4      no  adult           530255         37.3  104.0              35.0   \n",
       "\n",
       "  temp_of_extremities peripheral_pulse mucous_membrane capillary_refill_time  \\\n",
       "0                cool          reduced             NaN            more_3_sec   \n",
       "1                 NaN              NaN   pale_cyanotic            less_3_sec   \n",
       "2              normal           normal       pale_pink            less_3_sec   \n",
       "3                cold           normal   dark_cyanotic            more_3_sec   \n",
       "4                 NaN              NaN   dark_cyanotic            more_3_sec   \n",
       "\n",
       "   ... packed_cell_volume total_protein abdomo_appearance abdomo_protein  \\\n",
       "0  ...               45.0           8.4               NaN            NaN   \n",
       "1  ...               50.0          85.0            cloudy            2.0   \n",
       "2  ...               33.0           6.7               NaN            NaN   \n",
       "3  ...               48.0           7.2     serosanguious            5.3   \n",
       "4  ...               74.0           7.4               NaN            NaN   \n",
       "\n",
       "      outcome  surgical_lesion lesion_1 lesion_2  lesion_3  cp_data  \n",
       "0        died               no    11300        0         0       no  \n",
       "1  euthanized               no     2208        0         0       no  \n",
       "2       lived               no        0        0         0      yes  \n",
       "3        died              yes     2208        0         0      yes  \n",
       "4        died               no     4300        0         0       no  \n",
       "\n",
       "[5 rows x 28 columns]"
      ]
     },
     "execution_count": 3,
     "metadata": {},
     "output_type": "execute_result"
    }
   ],
   "source": [
    "horse.head()"
   ]
  },
  {
   "cell_type": "code",
   "execution_count": 4,
   "metadata": {},
   "outputs": [
    {
     "data": {
      "text/plain": [
       "(299, 28)"
      ]
     },
     "execution_count": 4,
     "metadata": {},
     "output_type": "execute_result"
    }
   ],
   "source": [
    "horse.shape"
   ]
  },
  {
   "cell_type": "code",
   "execution_count": 5,
   "metadata": {},
   "outputs": [
    {
     "name": "stdout",
     "output_type": "stream",
     "text": [
      "<class 'pandas.core.frame.DataFrame'>\n",
      "RangeIndex: 299 entries, 0 to 298\n",
      "Data columns (total 28 columns):\n",
      " #   Column                 Non-Null Count  Dtype  \n",
      "---  ------                 --------------  -----  \n",
      " 0   surgery                299 non-null    object \n",
      " 1   age                    299 non-null    object \n",
      " 2   hospital_number        299 non-null    int64  \n",
      " 3   rectal_temp            239 non-null    float64\n",
      " 4   pulse                  275 non-null    float64\n",
      " 5   respiratory_rate       241 non-null    float64\n",
      " 6   temp_of_extremities    243 non-null    object \n",
      " 7   peripheral_pulse       230 non-null    object \n",
      " 8   mucous_membrane        252 non-null    object \n",
      " 9   capillary_refill_time  267 non-null    object \n",
      " 10  pain                   244 non-null    object \n",
      " 11  peristalsis            255 non-null    object \n",
      " 12  abdominal_distention   243 non-null    object \n",
      " 13  nasogastric_tube       195 non-null    object \n",
      " 14  nasogastric_reflux     193 non-null    object \n",
      " 15  nasogastric_reflux_ph  53 non-null     float64\n",
      " 16  rectal_exam_feces      197 non-null    object \n",
      " 17  abdomen                181 non-null    object \n",
      " 18  packed_cell_volume     270 non-null    float64\n",
      " 19  total_protein          266 non-null    float64\n",
      " 20  abdomo_appearance      134 non-null    object \n",
      " 21  abdomo_protein         101 non-null    float64\n",
      " 22  outcome                299 non-null    object \n",
      " 23  surgical_lesion        299 non-null    object \n",
      " 24  lesion_1               299 non-null    int64  \n",
      " 25  lesion_2               299 non-null    int64  \n",
      " 26  lesion_3               299 non-null    int64  \n",
      " 27  cp_data                299 non-null    object \n",
      "dtypes: float64(7), int64(4), object(17)\n",
      "memory usage: 65.5+ KB\n"
     ]
    }
   ],
   "source": [
    "horse.info()"
   ]
  },
  {
   "cell_type": "code",
   "execution_count": 6,
   "metadata": {},
   "outputs": [
    {
     "data": {
      "text/plain": [
       "surgery                    0\n",
       "age                        0\n",
       "hospital_number            0\n",
       "rectal_temp               60\n",
       "pulse                     24\n",
       "respiratory_rate          58\n",
       "temp_of_extremities       56\n",
       "peripheral_pulse          69\n",
       "mucous_membrane           47\n",
       "capillary_refill_time     32\n",
       "pain                      55\n",
       "peristalsis               44\n",
       "abdominal_distention      56\n",
       "nasogastric_tube         104\n",
       "nasogastric_reflux       106\n",
       "nasogastric_reflux_ph    246\n",
       "rectal_exam_feces        102\n",
       "abdomen                  118\n",
       "packed_cell_volume        29\n",
       "total_protein             33\n",
       "abdomo_appearance        165\n",
       "abdomo_protein           198\n",
       "outcome                    0\n",
       "surgical_lesion            0\n",
       "lesion_1                   0\n",
       "lesion_2                   0\n",
       "lesion_3                   0\n",
       "cp_data                    0\n",
       "dtype: int64"
      ]
     },
     "execution_count": 6,
     "metadata": {},
     "output_type": "execute_result"
    }
   ],
   "source": [
    "horse.isnull().sum()"
   ]
  },
  {
   "cell_type": "code",
   "execution_count": 7,
   "metadata": {},
   "outputs": [],
   "source": [
    "target = horse[['outcome']]"
   ]
  },
  {
   "cell_type": "code",
   "execution_count": 8,
   "metadata": {},
   "outputs": [
    {
     "data": {
      "text/plain": [
       "outcome   \n",
       "lived         178\n",
       "died           77\n",
       "euthanized     44\n",
       "dtype: int64"
      ]
     },
     "execution_count": 8,
     "metadata": {},
     "output_type": "execute_result"
    }
   ],
   "source": [
    "target.value_counts()"
   ]
  },
  {
   "cell_type": "code",
   "execution_count": 9,
   "metadata": {},
   "outputs": [],
   "source": [
    "features = horse.drop('outcome',axis=1)"
   ]
  },
  {
   "cell_type": "code",
   "execution_count": 11,
   "metadata": {},
   "outputs": [
    {
     "data": {
      "text/plain": [
       "(299, 27)"
      ]
     },
     "execution_count": 11,
     "metadata": {},
     "output_type": "execute_result"
    }
   ],
   "source": [
    "features.shape"
   ]
  },
  {
   "cell_type": "code",
   "execution_count": 15,
   "metadata": {},
   "outputs": [],
   "source": [
    "features = pd.get_dummies(features)"
   ]
  },
  {
   "cell_type": "code",
   "execution_count": 16,
   "metadata": {},
   "outputs": [
    {
     "data": {
      "text/html": [
       "<div>\n",
       "<style scoped>\n",
       "    .dataframe tbody tr th:only-of-type {\n",
       "        vertical-align: middle;\n",
       "    }\n",
       "\n",
       "    .dataframe tbody tr th {\n",
       "        vertical-align: top;\n",
       "    }\n",
       "\n",
       "    .dataframe thead th {\n",
       "        text-align: right;\n",
       "    }\n",
       "</style>\n",
       "<table border=\"1\" class=\"dataframe\">\n",
       "  <thead>\n",
       "    <tr style=\"text-align: right;\">\n",
       "      <th></th>\n",
       "      <th>hospital_number</th>\n",
       "      <th>rectal_temp</th>\n",
       "      <th>pulse</th>\n",
       "      <th>respiratory_rate</th>\n",
       "      <th>nasogastric_reflux_ph</th>\n",
       "      <th>packed_cell_volume</th>\n",
       "      <th>total_protein</th>\n",
       "      <th>abdomo_protein</th>\n",
       "      <th>lesion_1</th>\n",
       "      <th>lesion_2</th>\n",
       "      <th>...</th>\n",
       "      <th>abdomen_firm</th>\n",
       "      <th>abdomen_normal</th>\n",
       "      <th>abdomen_other</th>\n",
       "      <th>abdomo_appearance_clear</th>\n",
       "      <th>abdomo_appearance_cloudy</th>\n",
       "      <th>abdomo_appearance_serosanguious</th>\n",
       "      <th>surgical_lesion_no</th>\n",
       "      <th>surgical_lesion_yes</th>\n",
       "      <th>cp_data_no</th>\n",
       "      <th>cp_data_yes</th>\n",
       "    </tr>\n",
       "  </thead>\n",
       "  <tbody>\n",
       "    <tr>\n",
       "      <th>0</th>\n",
       "      <td>530101</td>\n",
       "      <td>38.5</td>\n",
       "      <td>66.0</td>\n",
       "      <td>28.0</td>\n",
       "      <td>NaN</td>\n",
       "      <td>45.0</td>\n",
       "      <td>8.4</td>\n",
       "      <td>NaN</td>\n",
       "      <td>11300</td>\n",
       "      <td>0</td>\n",
       "      <td>...</td>\n",
       "      <td>0</td>\n",
       "      <td>0</td>\n",
       "      <td>0</td>\n",
       "      <td>0</td>\n",
       "      <td>0</td>\n",
       "      <td>0</td>\n",
       "      <td>1</td>\n",
       "      <td>0</td>\n",
       "      <td>1</td>\n",
       "      <td>0</td>\n",
       "    </tr>\n",
       "    <tr>\n",
       "      <th>1</th>\n",
       "      <td>534817</td>\n",
       "      <td>39.2</td>\n",
       "      <td>88.0</td>\n",
       "      <td>20.0</td>\n",
       "      <td>NaN</td>\n",
       "      <td>50.0</td>\n",
       "      <td>85.0</td>\n",
       "      <td>2.0</td>\n",
       "      <td>2208</td>\n",
       "      <td>0</td>\n",
       "      <td>...</td>\n",
       "      <td>0</td>\n",
       "      <td>0</td>\n",
       "      <td>1</td>\n",
       "      <td>0</td>\n",
       "      <td>1</td>\n",
       "      <td>0</td>\n",
       "      <td>1</td>\n",
       "      <td>0</td>\n",
       "      <td>1</td>\n",
       "      <td>0</td>\n",
       "    </tr>\n",
       "    <tr>\n",
       "      <th>2</th>\n",
       "      <td>530334</td>\n",
       "      <td>38.3</td>\n",
       "      <td>40.0</td>\n",
       "      <td>24.0</td>\n",
       "      <td>NaN</td>\n",
       "      <td>33.0</td>\n",
       "      <td>6.7</td>\n",
       "      <td>NaN</td>\n",
       "      <td>0</td>\n",
       "      <td>0</td>\n",
       "      <td>...</td>\n",
       "      <td>0</td>\n",
       "      <td>1</td>\n",
       "      <td>0</td>\n",
       "      <td>0</td>\n",
       "      <td>0</td>\n",
       "      <td>0</td>\n",
       "      <td>1</td>\n",
       "      <td>0</td>\n",
       "      <td>0</td>\n",
       "      <td>1</td>\n",
       "    </tr>\n",
       "    <tr>\n",
       "      <th>3</th>\n",
       "      <td>5290409</td>\n",
       "      <td>39.1</td>\n",
       "      <td>164.0</td>\n",
       "      <td>84.0</td>\n",
       "      <td>5.0</td>\n",
       "      <td>48.0</td>\n",
       "      <td>7.2</td>\n",
       "      <td>5.3</td>\n",
       "      <td>2208</td>\n",
       "      <td>0</td>\n",
       "      <td>...</td>\n",
       "      <td>0</td>\n",
       "      <td>0</td>\n",
       "      <td>0</td>\n",
       "      <td>0</td>\n",
       "      <td>0</td>\n",
       "      <td>1</td>\n",
       "      <td>0</td>\n",
       "      <td>1</td>\n",
       "      <td>0</td>\n",
       "      <td>1</td>\n",
       "    </tr>\n",
       "    <tr>\n",
       "      <th>4</th>\n",
       "      <td>530255</td>\n",
       "      <td>37.3</td>\n",
       "      <td>104.0</td>\n",
       "      <td>35.0</td>\n",
       "      <td>NaN</td>\n",
       "      <td>74.0</td>\n",
       "      <td>7.4</td>\n",
       "      <td>NaN</td>\n",
       "      <td>4300</td>\n",
       "      <td>0</td>\n",
       "      <td>...</td>\n",
       "      <td>0</td>\n",
       "      <td>0</td>\n",
       "      <td>0</td>\n",
       "      <td>0</td>\n",
       "      <td>0</td>\n",
       "      <td>0</td>\n",
       "      <td>1</td>\n",
       "      <td>0</td>\n",
       "      <td>1</td>\n",
       "      <td>0</td>\n",
       "    </tr>\n",
       "  </tbody>\n",
       "</table>\n",
       "<p>5 rows × 67 columns</p>\n",
       "</div>"
      ],
      "text/plain": [
       "   hospital_number  rectal_temp  pulse  respiratory_rate  \\\n",
       "0           530101         38.5   66.0              28.0   \n",
       "1           534817         39.2   88.0              20.0   \n",
       "2           530334         38.3   40.0              24.0   \n",
       "3          5290409         39.1  164.0              84.0   \n",
       "4           530255         37.3  104.0              35.0   \n",
       "\n",
       "   nasogastric_reflux_ph  packed_cell_volume  total_protein  abdomo_protein  \\\n",
       "0                    NaN                45.0            8.4             NaN   \n",
       "1                    NaN                50.0           85.0             2.0   \n",
       "2                    NaN                33.0            6.7             NaN   \n",
       "3                    5.0                48.0            7.2             5.3   \n",
       "4                    NaN                74.0            7.4             NaN   \n",
       "\n",
       "   lesion_1  lesion_2  ...  abdomen_firm  abdomen_normal  abdomen_other  \\\n",
       "0     11300         0  ...             0               0              0   \n",
       "1      2208         0  ...             0               0              1   \n",
       "2         0         0  ...             0               1              0   \n",
       "3      2208         0  ...             0               0              0   \n",
       "4      4300         0  ...             0               0              0   \n",
       "\n",
       "   abdomo_appearance_clear  abdomo_appearance_cloudy  \\\n",
       "0                        0                         0   \n",
       "1                        0                         1   \n",
       "2                        0                         0   \n",
       "3                        0                         0   \n",
       "4                        0                         0   \n",
       "\n",
       "   abdomo_appearance_serosanguious  surgical_lesion_no  surgical_lesion_yes  \\\n",
       "0                                0                   1                    0   \n",
       "1                                0                   1                    0   \n",
       "2                                0                   1                    0   \n",
       "3                                1                   0                    1   \n",
       "4                                0                   1                    0   \n",
       "\n",
       "   cp_data_no  cp_data_yes  \n",
       "0           1            0  \n",
       "1           1            0  \n",
       "2           0            1  \n",
       "3           0            1  \n",
       "4           1            0  \n",
       "\n",
       "[5 rows x 67 columns]"
      ]
     },
     "execution_count": 16,
     "metadata": {},
     "output_type": "execute_result"
    }
   ],
   "source": [
    "features.head()"
   ]
  },
  {
   "cell_type": "code",
   "execution_count": null,
   "metadata": {},
   "outputs": [],
   "source": []
  },
  {
   "cell_type": "code",
   "execution_count": 17,
   "metadata": {},
   "outputs": [],
   "source": [
    "x_train,x_test,y_train,y_test = train_test_split(features,target,train_size=0.75,random_state=70)"
   ]
  },
  {
   "cell_type": "code",
   "execution_count": 18,
   "metadata": {},
   "outputs": [
    {
     "data": {
      "text/plain": [
       "hospital_number                      0\n",
       "rectal_temp                         41\n",
       "pulse                               16\n",
       "respiratory_rate                    43\n",
       "nasogastric_reflux_ph              184\n",
       "                                  ... \n",
       "abdomo_appearance_serosanguious      0\n",
       "surgical_lesion_no                   0\n",
       "surgical_lesion_yes                  0\n",
       "cp_data_no                           0\n",
       "cp_data_yes                          0\n",
       "Length: 67, dtype: int64"
      ]
     },
     "execution_count": 18,
     "metadata": {},
     "output_type": "execute_result"
    }
   ],
   "source": [
    "x_train.isnull().sum()"
   ]
  },
  {
   "cell_type": "code",
   "execution_count": 20,
   "metadata": {},
   "outputs": [],
   "source": [
    "simple_impute = SimpleImputer(missing_values=np.nan,strategy='mean')"
   ]
  },
  {
   "cell_type": "code",
   "execution_count": 21,
   "metadata": {},
   "outputs": [],
   "source": [
    "x_train = simple_impute.fit_transform(x_train)"
   ]
  },
  {
   "cell_type": "code",
   "execution_count": 22,
   "metadata": {},
   "outputs": [
    {
     "data": {
      "text/plain": [
       "array([[5.28178e+05, 3.77000e+01, 6.60000e+01, ..., 1.00000e+00,\n",
       "        0.00000e+00, 1.00000e+00],\n",
       "       [5.34115e+05, 3.82000e+01, 4.80000e+01, ..., 1.00000e+00,\n",
       "        1.00000e+00, 0.00000e+00],\n",
       "       [5.28964e+05, 3.78000e+01, 3.00000e+01, ..., 1.00000e+00,\n",
       "        1.00000e+00, 0.00000e+00],\n",
       "       ...,\n",
       "       [5.30624e+05, 4.00000e+01, 7.80000e+01, ..., 1.00000e+00,\n",
       "        0.00000e+00, 1.00000e+00],\n",
       "       [5.32349e+05, 3.84000e+01, 4.40000e+01, ..., 1.00000e+00,\n",
       "        1.00000e+00, 0.00000e+00],\n",
       "       [5.29135e+05, 3.78000e+01, 4.00000e+01, ..., 1.00000e+00,\n",
       "        1.00000e+00, 0.00000e+00]])"
      ]
     },
     "execution_count": 22,
     "metadata": {},
     "output_type": "execute_result"
    }
   ],
   "source": [
    "x_train"
   ]
  },
  {
   "cell_type": "code",
   "execution_count": 23,
   "metadata": {},
   "outputs": [],
   "source": [
    "x_train = pd.DataFrame(x_train)"
   ]
  },
  {
   "cell_type": "code",
   "execution_count": 25,
   "metadata": {},
   "outputs": [
    {
     "data": {
      "text/plain": [
       "0     0\n",
       "1     0\n",
       "2     0\n",
       "3     0\n",
       "4     0\n",
       "     ..\n",
       "62    0\n",
       "63    0\n",
       "64    0\n",
       "65    0\n",
       "66    0\n",
       "Length: 67, dtype: int64"
      ]
     },
     "execution_count": 25,
     "metadata": {},
     "output_type": "execute_result"
    }
   ],
   "source": [
    "x_train.isnull().sum()"
   ]
  },
  {
   "cell_type": "code",
   "execution_count": null,
   "metadata": {},
   "outputs": [],
   "source": []
  }
 ],
 "metadata": {
  "kernelspec": {
   "display_name": "base",
   "language": "python",
   "name": "python3"
  },
  "language_info": {
   "codemirror_mode": {
    "name": "ipython",
    "version": 3
   },
   "file_extension": ".py",
   "mimetype": "text/x-python",
   "name": "python",
   "nbconvert_exporter": "python",
   "pygments_lexer": "ipython3",
   "version": "3.9.13"
  },
  "orig_nbformat": 4
 },
 "nbformat": 4,
 "nbformat_minor": 2
}
