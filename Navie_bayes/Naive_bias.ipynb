{
<<<<<<< HEAD:Navie_bayes/Naive_bias.ipynb
=======
  "nbformat": 4,
  "nbformat_minor": 0,
  "metadata": {
    "colab": {
      "provenance": [],
      "authorship_tag": "ABX9TyMkW+9TkWmbP6LfWXe7gAEg",
      "include_colab_link": true
    },
    "kernelspec": {
      "name": "python3",
      "display_name": "Python 3"
    },
    "language_info": {
      "name": "python"
    }
  },
>>>>>>> d6ea5b2c7762e7910ab0158d07d045523e8dbdff:Naive_bias.ipynb
  "cells": [
    {
      "cell_type": "markdown",
      "metadata": {
        "colab_type": "text",
        "id": "view-in-github"
      },
      "source": [
        "<a href=\"https://colab.research.google.com/github/Abhilashg11/Data_science/blob/master/Naive_bias.ipynb\" target=\"_parent\"><img src=\"https://colab.research.google.com/assets/colab-badge.svg\" alt=\"Open In Colab\"/></a>"
      ]
    },
    {
      "cell_type": "code",
      "execution_count": 1,
      "metadata": {
        "id": "iCj5PEsh9ST7"
      },
      "outputs": [],
      "source": [
        "import pandas as pd\n",
        "import matplotlib.pyplot as plt\n",
        "import numpy  as np\n",
        "import seaborn as sns\n",
        "from sklearn.model_selection import train_test_split,GridSearchCV\n",
        "from sklearn.metrics import accuracy_score,confusion_matrix,classification_report\n",
        "from sklearn.impute import SimpleImputer\n",
        "from sklearn.tree import DecisionTreeClassifier\n",
        "\n",
        "\n"
      ]
    },
    {
      "cell_type": "code",
<<<<<<< HEAD:Navie_bayes/Naive_bias.ipynb
      "execution_count": null,
=======
      "source": [
        "##this is commit\n",
        "###this done"
      ],
>>>>>>> d6ea5b2c7762e7910ab0158d07d045523e8dbdff:Naive_bias.ipynb
      "metadata": {
        "id": "kdOtI3UQLmw7"
      },
      "outputs": [],
      "source": []
    }
  ],
  "metadata": {
    "colab": {
      "authorship_tag": "ABX9TyNQRj1Vz0clnaOy3eai2tXA",
      "include_colab_link": true,
      "provenance": []
    },
    "kernelspec": {
      "display_name": "Python 3",
      "name": "python3"
    },
    "language_info": {
      "name": "python"
    }
  },
  "nbformat": 4,
  "nbformat_minor": 0
}
