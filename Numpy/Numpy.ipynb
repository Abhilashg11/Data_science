{
 "cells": [
  {
   "cell_type": "code",
   "execution_count": 5,
   "id": "45d3c2b4",
   "metadata": {},
   "outputs": [
    {
     "data": {
      "text/plain": [
       "array([1, 2, 3, 4, 5])"
      ]
     },
     "execution_count": 5,
     "metadata": {},
     "output_type": "execute_result"
    }
   ],
   "source": [
    "import numpy as np\n",
    "one_dim = np.array([1,2,3,4,5])\n",
    "one_dim\n"
   ]
  },
  {
   "cell_type": "code",
   "execution_count": 6,
   "id": "e0cd9194",
   "metadata": {},
   "outputs": [
    {
     "data": {
      "text/plain": [
       "array([1, 2, 3])"
      ]
     },
     "execution_count": 6,
     "metadata": {},
     "output_type": "execute_result"
    }
   ],
   "source": [
    "one_dim[0:3]"
   ]
  },
  {
   "cell_type": "code",
   "execution_count": 7,
   "id": "c0dbf043",
   "metadata": {},
   "outputs": [
    {
     "data": {
      "text/plain": [
       "array([1, 3, 4, 5])"
      ]
     },
     "execution_count": 7,
     "metadata": {},
     "output_type": "execute_result"
    }
   ],
   "source": [
    "np.delete(one_dim,(1),axis=0)"
   ]
  },
  {
   "cell_type": "code",
   "execution_count": 8,
   "id": "cd8d918a",
   "metadata": {},
   "outputs": [],
   "source": [
    "one_dim=np.arange(1,10,2)"
   ]
  },
  {
   "cell_type": "code",
   "execution_count": 9,
   "id": "44cbbc13",
   "metadata": {},
   "outputs": [
    {
     "data": {
      "text/plain": [
       "array([1, 3, 5, 7, 9])"
      ]
     },
     "execution_count": 9,
     "metadata": {},
     "output_type": "execute_result"
    }
   ],
   "source": [
    "one_dim"
   ]
  },
  {
   "cell_type": "code",
   "execution_count": 71,
   "id": "5ac4e582",
   "metadata": {},
   "outputs": [],
   "source": [
    "two_dim=np.array([[1,2,3],[4,5,6],[7,8,9]])"
   ]
  },
  {
   "cell_type": "code",
   "execution_count": 72,
   "id": "6189102a",
   "metadata": {},
   "outputs": [
    {
     "data": {
      "text/plain": [
       "array([[1, 2, 3],\n",
       "       [4, 5, 6],\n",
       "       [7, 8, 9]])"
      ]
     },
     "execution_count": 72,
     "metadata": {},
     "output_type": "execute_result"
    }
   ],
   "source": [
    "two_dim"
   ]
  },
  {
   "cell_type": "code",
   "execution_count": 76,
   "id": "7c6db684",
   "metadata": {},
   "outputs": [
    {
     "ename": "ValueError",
     "evalue": "could not broadcast input array from shape (2,) into shape (2,1)",
     "output_type": "error",
     "traceback": [
      "\u001b[1;31m---------------------------------------------------------------------------\u001b[0m",
      "\u001b[1;31mValueError\u001b[0m                                Traceback (most recent call last)",
      "Cell \u001b[1;32mIn[76], line 1\u001b[0m\n\u001b[1;32m----> 1\u001b[0m two_dim[\u001b[38;5;241m1\u001b[39m:\u001b[38;5;241m3\u001b[39m,\u001b[38;5;241m1\u001b[39m:\u001b[38;5;241m2\u001b[39m]\u001b[38;5;241m=\u001b[39m[\u001b[38;5;241m12\u001b[39m,\u001b[38;5;241m4\u001b[39m]\n",
      "\u001b[1;31mValueError\u001b[0m: could not broadcast input array from shape (2,) into shape (2,1)"
     ]
    }
   ],
   "source": [
    "two_dim[1:3,1:2]"
   ]
  },
  {
   "cell_type": "code",
   "execution_count": 74,
   "id": "fc1b9303",
   "metadata": {},
   "outputs": [],
   "source": [
    "# two_dim=np.delete(two_dim,(0,1),axis=0)"
   ]
  },
  {
   "cell_type": "code",
   "execution_count": 75,
   "id": "0a811f69",
   "metadata": {},
   "outputs": [
    {
     "data": {
      "text/plain": [
       "array([[1, 2, 3],\n",
       "       [4, 5, 6],\n",
       "       [7, 8, 9]])"
      ]
     },
     "execution_count": 75,
     "metadata": {},
     "output_type": "execute_result"
    }
   ],
   "source": [
    "two_dim"
   ]
  },
  {
   "cell_type": "code",
   "execution_count": 79,
   "id": "55519cb9",
   "metadata": {},
   "outputs": [
    {
     "data": {
      "text/plain": [
       "array([[1, 2],\n",
       "       [4, 5],\n",
       "       [7, 8]])"
      ]
     },
     "execution_count": 79,
     "metadata": {},
     "output_type": "execute_result"
    }
   ],
   "source": [
    "np.delete(two_dim,2,axis=1)"
   ]
  },
  {
   "cell_type": "code",
   "execution_count": 82,
   "id": "9a3d0461",
   "metadata": {},
   "outputs": [],
   "source": [
    "two_dim=np.arange(0,12).reshape(3,4)"
   ]
  },
  {
   "cell_type": "code",
   "execution_count": 83,
   "id": "4256e17f",
   "metadata": {},
   "outputs": [
    {
     "data": {
      "text/plain": [
       "array([[ 0,  1,  2,  3],\n",
       "       [ 4,  5,  6,  7],\n",
       "       [ 8,  9, 10, 11]])"
      ]
     },
     "execution_count": 83,
     "metadata": {},
     "output_type": "execute_result"
    }
   ],
   "source": [
    "two_dim"
   ]
  },
  {
   "cell_type": "code",
   "execution_count": 84,
   "id": "67ae1e87",
   "metadata": {},
   "outputs": [
    {
     "data": {
      "text/plain": [
       "array([4, 4, 7, 6, 4, 9, 5, 1, 9, 1, 6, 6, 8, 3, 9, 2, 7, 1, 8, 7, 9, 1,\n",
       "       5, 2, 5, 8, 6, 6, 7, 8, 9, 5, 3, 9, 1, 1, 5, 1, 5, 2, 3, 8, 9, 3,\n",
       "       1, 4, 6, 2, 9, 2, 6, 8, 4, 3, 5, 5, 1, 9, 4, 6, 6, 1, 2, 8, 9, 2,\n",
       "       8, 5, 3, 5, 8, 3, 5, 5, 2, 9, 4, 5, 1, 8, 1, 9, 5, 4, 8, 7, 7, 4,\n",
       "       4, 8, 7, 1, 8, 8, 3, 2, 9, 4, 5, 4])"
      ]
     },
     "execution_count": 84,
     "metadata": {},
     "output_type": "execute_result"
    }
   ],
   "source": [
    "np.random.randint(1,10,100)"
   ]
  },
  {
   "cell_type": "code",
   "execution_count": 85,
   "id": "ad1ffb7a",
   "metadata": {},
   "outputs": [],
   "source": [
    " two_ran=np.random.randint(0,110,12).reshape(3,4)"
   ]
  },
  {
   "cell_type": "code",
   "execution_count": 87,
   "id": "8bcb6edc",
   "metadata": {},
   "outputs": [
    {
     "data": {
      "text/plain": [
       "array([[ 16,  90,  39,  31],\n",
       "       [ 76,  65,  82, 105],\n",
       "       [ 80,  39,  46,  62]])"
      ]
     },
     "execution_count": 87,
     "metadata": {},
     "output_type": "execute_result"
    }
   ],
   "source": [
    "two_ran"
   ]
  },
  {
   "cell_type": "code",
   "execution_count": 93,
   "id": "198a8947",
   "metadata": {},
   "outputs": [],
   "source": [
    "n=np.random.rand(16).reshape(4,4)"
   ]
  },
  {
   "cell_type": "code",
   "execution_count": 94,
   "id": "d1be9d7d",
   "metadata": {},
   "outputs": [
    {
     "data": {
      "text/plain": [
       "array([[ 0.75265312,  0.94565682,  0.17606998, -2.04226776],\n",
       "       [ 0.04041368, -0.0760898 , -1.46729171,  2.08749643],\n",
       "       [ 1.09381521, -0.63812088,  1.1380737 , -1.07457276],\n",
       "       [-1.13657259,  0.39867427,  0.88155015,  0.36160205]])"
      ]
     },
     "execution_count": 94,
     "metadata": {},
     "output_type": "execute_result"
    }
   ],
   "source": [
    "np.linalg.inv(n)"
   ]
  },
  {
   "cell_type": "code",
   "execution_count": 97,
   "id": "3cdbb4fd",
   "metadata": {},
   "outputs": [
    {
     "data": {
      "text/plain": [
       "array([[1., 0.],\n",
       "       [0., 1.]])"
      ]
     },
     "execution_count": 97,
     "metadata": {},
     "output_type": "execute_result"
    }
   ],
   "source": [
    "np.identity(2)"
   ]
  },
  {
   "cell_type": "code",
   "execution_count": 98,
   "id": "11917a06",
   "metadata": {},
   "outputs": [
    {
     "data": {
      "text/plain": [
       "array([[1., 1., 1.],\n",
       "       [1., 1., 1.],\n",
       "       [1., 1., 1.]])"
      ]
     },
     "execution_count": 98,
     "metadata": {},
     "output_type": "execute_result"
    }
   ],
   "source": [
    "np.ones(shape=(3,3))"
   ]
  },
  {
   "cell_type": "code",
   "execution_count": 99,
   "id": "448b404e",
   "metadata": {},
   "outputs": [
    {
     "data": {
      "text/plain": [
       "array([[0., 0., 0., 0.],\n",
       "       [0., 0., 0., 0.],\n",
       "       [0., 0., 0., 0.],\n",
       "       [0., 0., 0., 0.]])"
      ]
     },
     "execution_count": 99,
     "metadata": {},
     "output_type": "execute_result"
    }
   ],
   "source": [
    "np.zeros(shape=(4,4))"
   ]
  },
  {
   "cell_type": "code",
   "execution_count": 100,
   "id": "ce6d4d59",
   "metadata": {},
   "outputs": [],
   "source": [
    "a=np.array([[1,2],[3,4]])"
   ]
  },
  {
   "cell_type": "code",
   "execution_count": 101,
   "id": "9c090d18",
   "metadata": {},
   "outputs": [],
   "source": [
    "b=np.array([[5,6],[7,8]])"
   ]
  },
  {
   "cell_type": "code",
   "execution_count": 102,
   "id": "cd2bedbd",
   "metadata": {},
   "outputs": [
    {
     "data": {
      "text/plain": [
       "array([[19, 22],\n",
       "       [43, 50]])"
      ]
     },
     "execution_count": 102,
     "metadata": {},
     "output_type": "execute_result"
    }
   ],
   "source": [
    "a@b"
   ]
  },
  {
   "cell_type": "code",
   "execution_count": 103,
   "id": "66a1697b",
   "metadata": {},
   "outputs": [
    {
     "data": {
      "text/plain": [
       "array([[ 6,  8],\n",
       "       [10, 12]])"
      ]
     },
     "execution_count": 103,
     "metadata": {},
     "output_type": "execute_result"
    }
   ],
   "source": [
    "a+b"
   ]
  },
  {
   "cell_type": "markdown",
   "id": "3a5c2431",
   "metadata": {},
   "source": [
    "# three dimension"
   ]
  },
  {
   "cell_type": "code",
   "execution_count": null,
   "id": "e3482ddb",
   "metadata": {},
   "outputs": [],
   "source": [
    "three_dim=np.array([[[1,2,3],[4,5,6]],[[7,8,9],[10,11,12]]])"
   ]
  },
  {
   "cell_type": "code",
   "execution_count": null,
   "id": "d043da65",
   "metadata": {},
   "outputs": [],
   "source": [
    "three_dim[0,1,2]"
   ]
  },
  {
   "cell_type": "code",
   "execution_count": null,
   "id": "667c98d8",
   "metadata": {},
   "outputs": [],
   "source": [
    "np.delete(three_dim,0,axis=2)"
   ]
  },
  {
   "cell_type": "code",
   "execution_count": null,
   "id": "157dc5dd",
   "metadata": {},
   "outputs": [],
   "source": []
  }
 ],
 "metadata": {
  "kernelspec": {
   "display_name": "Python 3 (ipykernel)",
   "language": "python",
   "name": "python3"
  },
  "language_info": {
   "codemirror_mode": {
    "name": "ipython",
    "version": 3
   },
   "file_extension": ".py",
   "mimetype": "text/x-python",
   "name": "python",
   "nbconvert_exporter": "python",
   "pygments_lexer": "ipython3",
   "version": "3.11.3"
  }
 },
 "nbformat": 4,
 "nbformat_minor": 5
}
